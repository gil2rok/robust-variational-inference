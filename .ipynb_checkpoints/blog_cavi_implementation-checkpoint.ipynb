{
 "cells": [
  {
   "cell_type": "code",
   "execution_count": 2,
   "metadata": {},
   "outputs": [],
   "source": [
    "import numpy as np\n",
    "import matplotlib.pyplot as plt\n",
    "import scipy.integrate as integrate"
   ]
  },
  {
   "cell_type": "code",
   "execution_count": 3,
   "metadata": {},
   "outputs": [],
   "source": [
    "def gaussian_mixture(k=3, variance=1, n=100000):\n",
    "    '''\n",
    "    Calculate a gaussian mixture model.\n",
    "    Inputs:\n",
    "        k - number of Gaussian categories/clusters that we will draw from\n",
    "        variance -  variance used in selecting the mean of our \n",
    "                    different models\n",
    "        n - number of samples\n",
    "    \n",
    "    Returns:\n",
    "        vector of n samples drawn from the guassian mixture model specified\n",
    "        from the input parameters\n",
    "    '''\n",
    "    \n",
    "    # Draw the k means of our Gaussian distributions from a Gaussian distribution\n",
    "    std_dev = np.sqrt(variance)\n",
    "    mew = np.random.default_rng().normal(0, std_dev, k) # draw k samples from Gaussian distribution\n",
    "    mew = np.tile(mew, n).reshape((n, mew.size)) # repeat to enable code vectorization\n",
    "    \n",
    "    # Draw n samples from our Gaussian mixture model\n",
    "    c_matrix = np.zeros((k, n))\n",
    "    c_index = np.random.randint(0,k,n) # uniformly pick a model\n",
    "    c_matrix[c_index, np.arange(n)]=1 # store model info in one-hot encoding matrix\n",
    "    c_mean = np.multiply(np.transpose(c_matrix), mew).sum(axis=1) # Find mean for given models \n",
    "    x = np.random.default_rng().normal(c_mean, 1) # Draw from a Gaussian model w/ the relevant mean     \n",
    "    return x"
   ]
  },
  {
   "cell_type": "code",
   "execution_count": 52,
   "metadata": {},
   "outputs": [],
   "source": [
    "def gaussian(x, mu, var):\n",
    "    return 1/np.sqrt(2*np.pi*var) * np.exp(-0.5 * np.power((x - mu),2) / var)\n",
    "\n",
    "def q_mean(mu, m, s2):\n",
    "    return gaussian(mu, m, s2)\n",
    "\n",
    "def term1(mu, s2, phi, m, var):\n",
    "    temp = gaussian(mu, 0, var)\n",
    "    if temp == 0:\n",
    "        temp = 1e-15\n",
    "    assert(temp!=0)\n",
    "    return q_mean(mu, m, s2) * np.log(temp)\n",
    "\n",
    "def term2(mu, s2, m):\n",
    "    q_mean_gauss = q_mean(mu, m, s2)\n",
    "    return q_mean_gauss * np.log(q_mean_gauss)"
   ]
  },
  {
   "cell_type": "code",
   "execution_count": 53,
   "metadata": {},
   "outputs": [
    {
     "name": "stdout",
     "output_type": "stream",
     "text": [
      "[0.7011442  2.62008274]\n"
     ]
    }
   ],
   "source": [
    "def elbo(m, s2, phi, x, var):\n",
    "    k = np.size(m); n = np.size(phi)\n",
    "    total = 0\n",
    "    \n",
    "    # Term 1\n",
    "    for i in range(k): \n",
    "        total = integrate.quad(term1, -np.inf, np.inf, args=(s2[i], phi[i], m[i], var))\n",
    "    \n",
    "    # Terms 2 & 3\n",
    "    for i in range(n):\n",
    "        for k in range(k):\n",
    "            total += phi[i][k] * np.log(3) #cik\n",
    "            total += phi[i][k] * (x[i]**2 - 2*x[i]*m[k] + s2[k] + m[k]**2)\n",
    "        total += -0.5 * np.log(2*np.pi)\n",
    "    \n",
    "    # Term 4\n",
    "    for i in range(n):\n",
    "        for k in range(k):\n",
    "            total-= phi[i][k] * np.log(phi[i][k])\n",
    "    \n",
    "    # Term 5\n",
    "    for i in range(k):\n",
    "        total -= 0.5 * integrate.quad(term2, -np.inf, np.inf, args=(s2[i], m[i]))\n",
    "            \n",
    "    return total\n",
    "\n",
    "ans = elbo(np.ones((2,)), np.ones((2,)), np.ones((2,2)), np.ones((20,)), 1)\n",
    "print(ans)"
   ]
  },
  {
   "cell_type": "code",
   "execution_count": 13,
   "metadata": {},
   "outputs": [],
   "source": [
    "def cavi(x, k, var):\n",
    "    \n",
    "    # Initializing m, s2, and phi vectors\n",
    "    n = np.size(x);\n",
    "    m = np.zeros((k, 1)); s2 = np.zeros((k,1)); ro = np.zeros((n,1))\n",
    "    return\n",
    "    "
   ]
  }
 ],
 "metadata": {
  "kernelspec": {
   "display_name": "Python 3",
   "language": "python",
   "name": "python3"
  },
  "language_info": {
   "codemirror_mode": {
    "name": "ipython",
    "version": 3
   },
   "file_extension": ".py",
   "mimetype": "text/x-python",
   "name": "python",
   "nbconvert_exporter": "python",
   "pygments_lexer": "ipython3",
   "version": "3.7.6"
  }
 },
 "nbformat": 4,
 "nbformat_minor": 4
}
