{
 "cells": [
  {
   "cell_type": "code",
   "execution_count": 1,
   "metadata": {},
   "outputs": [],
   "source": [
    "from dataclasses import dataclass\n",
    "\n",
    "import numpy as np\n",
    "from numpy.random import default_rng"
   ]
  },
  {
   "cell_type": "code",
   "execution_count": 2,
   "metadata": {},
   "outputs": [],
   "source": [
    "def pshape(a):\n",
    "    print(np.shape(a))"
   ]
  },
  {
   "cell_type": "markdown",
   "metadata": {},
   "source": [
    "# Positive Semi-Definite Covariance Matrix\n",
    "<p> Right now, my covariance matrix for t and r are not positive semi-definite. This raises a warning after calling my generate_data function. To address this problem, I have tried two things. Firstly, I have tried adding $x+ x.T$, which should make the matrix, by definition invertible. Secondly, I have tried adding small positive values to the diagonals. Neither of these have worked. Further exploration is needed. </p>\n",
    "\n",
    "### TODO:\n",
    "<p> Round covariance values to 1 decimal pt to avoid overflow erros. Also make covar matricies the identity matrix to test to see if they then become positive semi-definite and the warning goes away.</p>"
   ]
  },
  {
   "cell_type": "code",
   "execution_count": 3,
   "metadata": {},
   "outputs": [],
   "source": [
    "@dataclass\n",
    "class Parameters:\n",
    "    n: int = 10000\n",
    "    A: int = 5\n",
    "    B: int = 4\n",
    "    beta: float = 0.01\n",
    "    seed: int = 12345 # cum!!\n",
    "    rng: any = default_rng(seed)\n",
    "    \n",
    "    t_mean: any = rng.uniform(size=A)\n",
    "    t_cov: any = (lambda x, y: x + x.T + 1e-12 * np.eye(y))(rng.uniform(size=(A,A)), A)\n",
    "        \n",
    "    r_mean: any = rng.uniform(size=B)\n",
    "    r_cov: any = (lambda x, y: x + x.T + 1e-12 * np.eye(y))(rng.uniform(size=(B,B)), B)\n",
    "    \n",
    "    nu_mean: any = rng.uniform(size=A)\n",
    "    nu_cov_diag: any = rng.uniform(size=A)\n",
    "        \n",
    "    gamma_mean: any = rng.uniform(size=B)\n",
    "    gamma_cov_diag: any = rng.uniform(size=B)\n",
    "        \n",
    "    epsilon_mean: any = np.array(0.0)\n",
    "    epsilon_var: any = rng.uniform()"
   ]
  },
  {
   "cell_type": "code",
   "execution_count": 4,
   "metadata": {},
   "outputs": [],
   "source": [
    "def generate_data(params, seed=12345):\n",
    "    #------- Sample from relevant densities ---------------\n",
    "    rng = default_rng(seed) # pass seed value to default random number generator\n",
    "    nu = rng.multivariate_normal(params.nu_mean, np.diag(params.nu_cov_diag)) # sample nu from multivariate normal w/ diagonal covar matrix\n",
    "    gamma = rng.multivariate_normal(params.gamma_mean, np.diag(params.gamma_cov_diag)) # sample gamma from multivariate normal w/ diagonal covar matrix\n",
    "    assert(gamma.any() != 0) # Some element of gamma must not == 0, otherwise there's no misspecification\n",
    "    t = rng.multivariate_normal(params.t_mean, params.t_cov, params.n) # sample t from multivariate normal density \n",
    "    r = rng.multivariate_normal(params.r_mean, params.r_cov, params.n) # sample r from multivariate normal density\n",
    "    epsilon = rng.normal(params.epsilon_mean, params.epsilon_var, params.n) # Must be independent of t and x\n",
    "    \n",
    "    #------------ Create data from samples ----------------\n",
    "    # combine samples in vectorized form, calculating y = nu*t_i + gamma*r_i + epsilon_i\n",
    "    y = np.matmul(nu[np.newaxis,:], np.transpose(t)) # nu * t\n",
    "    y += np.matmul(gamma[np.newaxis,:], np.transpose(r)) # gamma * r\n",
    "    y += epsilon # epsilon\n",
    "    return y.T, t, r # transpose y to make dimensions work"
   ]
  },
  {
   "cell_type": "code",
   "execution_count": 5,
   "metadata": {},
   "outputs": [
    {
     "name": "stderr",
     "output_type": "stream",
     "text": [
      "/home/gil2rok/anaconda3/lib/python3.7/site-packages/ipykernel_launcher.py:7: RuntimeWarning: covariance is not positive-semidefinite.\n",
      "  import sys\n",
      "/home/gil2rok/anaconda3/lib/python3.7/site-packages/ipykernel_launcher.py:8: RuntimeWarning: covariance is not positive-semidefinite.\n",
      "  \n"
     ]
    }
   ],
   "source": [
    "params = Parameters(n=100)\n",
    "y, t, r = generate_data(params)"
   ]
  },
  {
   "cell_type": "code",
   "execution_count": 13,
   "metadata": {},
   "outputs": [
    {
     "data": {
      "text/plain": [
       "array([[0.66562786, 0.84655447, 1.0732141 , 0.75435061, 1.75757927],\n",
       "       [0.84655447, 1.8977623 , 1.36469095, 0.25579354, 0.63513406],\n",
       "       [1.0732141 , 1.36469095, 0.65294573, 1.07402835, 0.34960403],\n",
       "       [0.75435061, 0.25579354, 1.07402835, 0.93038631, 0.35808578],\n",
       "       [1.75757927, 0.63513406, 0.34960403, 0.35808578, 1.19713603]])"
      ]
     },
     "execution_count": 13,
     "metadata": {},
     "output_type": "execute_result"
    }
   ],
   "source": [
    "specified_model.params.t_cov"
   ]
  },
  {
   "cell_type": "code",
   "execution_count": 9,
   "metadata": {},
   "outputs": [],
   "source": [
    "class specified_model(object):\n",
    "    def __init__(self, y, t, r, params, seed=12345):\n",
    "        self.y = y; self.t = t; self.r = r\n",
    "        self.params = params\n",
    "        \n",
    "        self.init_q_params()\n",
    "        \n",
    "    def init_q_params(self):\n",
    "        '''\n",
    "        Initialize the parameters of our approximation density q: m_nu, m_gamma, s_nu, s_gamma.\n",
    "        B/c of our mean field assumption, our covariance matricies s_nu and s_gamma are only\n",
    "        defined on their diagonals. We store their diagonal values only in s_nu and s_gamma.\n",
    "        '''\n",
    "        \n",
    "        self.m_nu = np.repeat(np.mean(self.y), self.params.A)\n",
    "        self.s_nu = np.np.repeat(np.cov(self.y.T), self.params.A)\n",
    "        self.m_gamma = np.repeat(np.mean(self.y), self.params.B)\n",
    "        self.s_gamma = np.repeat(np.cov(self.y.T), self.params.B)\n",
    "        return\n",
    "    \n",
    "    def term1_ELBO(self):\n",
    "        p1 = self.params.nu_cov_diag + np.power(self.m_nu,2)\n",
    "        p2 = np.power(self.t, 2)\n",
    "        e1 = np.sum(p2 * p1)\n",
    "        \n",
    "        p3 = self.t @ self.m_nu # [n]\n",
    "        p4 = np.repeat(p3[:, np.newaxis], self.params.n, axis=1) - np.diag(p3) # [n, n]\n",
    "        e2 = np.sum(p4, axis=0) @ p3 # scalar\n",
    "     \n",
    "        p5 = self.params.gamma_cov_diag + np.power(self.m_gamma, 2)\n",
    "        p6 = np.power(self.r, 2)\n",
    "        e3 = np.sum(p5 * p6)\n",
    "        \n",
    "        p7 = self.t @ self.m_nu # [n]\n",
    "        p8 = np.repeat(p7[:, np.newaxis], self.params.n, axis=1) - np.diag(p7) # [n,n]\n",
    "        e4 = np.sum(p8, axis=0) @ p7 # scalar\n",
    "        \n",
    "        p9 = np.sum(self.r * self.m_gamma, axis=1) #[n]\n",
    "        e5 = np.sum(-2 * self.y * p9)\n",
    "        \n",
    "        p10 = np.sum(self.t * self.m_nu, axis=1) # [n]\n",
    "        e6 = np.sum(-2 * self.y * p10)\n",
    "        \n",
    "    def term1_ELBO(self):\n",
    "        const_r_gamma = self.r @ self.m_gamma # [n,1]\n",
    "        const_t_nu = self.t @ self.m_nu # [n,1]\n",
    "        e1 = self.y * const_r_gamma # [n,1]\n",
    "        e2 = self.y * const_t_nu # [n,1]\n",
    "        e3 = - const_t_nu * const_r_gamma # [n,1]\n",
    "        e4 = - 0.5 * np.power(self.t, 2) @ self.s_nu\n",
    "        e5 = - 0.5 * np.power(const_t_nu, 2)\n",
    "        e6 = - 0.5 * np.power(self.r, 2) @ self.s_gamma\n",
    "        e7 = - 0.5 * np.power(const_r_gamma, 2)\n",
    "        return np.sum(e1 + e2 + e3 + e4 + e5 + e6 + e7) / self.params.epsilon_var\n",
    "    \n",
    "    def term2_ELBO(self):\n",
    "        e1 = self.params.nu_cov_diag @ self.s_nu\n",
    "        e2 = \n",
    "    \n",
    "        #TODO: do e7, add up all expressions, then multiply by -1/(2 sigma_epsilon^2)\n",
    "    def get_ELBO(self):\n",
    "        '''\n",
    "        Use hierarchy of variables. We have terms which are made up of expressions \n",
    "        which are made of parts. We use the variables ti, ei, and pi respectively for\n",
    "        the i-ith term, expression, and part\n",
    "        '''\n",
    "        t1 = self.term1_ELBO()\n",
    "        \n",
    "        return\n",
    "        \n",
    "    def update_param(self):\n",
    "        return\n",
    "    \n",
    "    def fit(self):\n",
    "        return"
   ]
  },
  {
   "cell_type": "code",
   "execution_count": 10,
   "metadata": {},
   "outputs": [
    {
     "ename": "ValueError",
     "evalue": "matmul: Input operand 1 has a mismatch in its core dimension 0, with gufunc signature (n?,k),(k,m?)->(n?,m?) (size 5 is different from 4)",
     "output_type": "error",
     "traceback": [
      "\u001b[0;31m---------------------------------------------------------------------------\u001b[0m",
      "\u001b[0;31mValueError\u001b[0m                                Traceback (most recent call last)",
      "\u001b[0;32m<ipython-input-10-7868cb1e107e>\u001b[0m in \u001b[0;36m<module>\u001b[0;34m\u001b[0m\n\u001b[1;32m      1\u001b[0m \u001b[0mspecified_model\u001b[0m \u001b[0;34m=\u001b[0m \u001b[0mspecified_model\u001b[0m\u001b[0;34m(\u001b[0m\u001b[0my\u001b[0m\u001b[0;34m,\u001b[0m\u001b[0mt\u001b[0m\u001b[0;34m,\u001b[0m\u001b[0mr\u001b[0m\u001b[0;34m,\u001b[0m \u001b[0mparams\u001b[0m\u001b[0;34m)\u001b[0m\u001b[0;34m\u001b[0m\u001b[0;34m\u001b[0m\u001b[0m\n\u001b[0;32m----> 2\u001b[0;31m \u001b[0mspecified_model\u001b[0m\u001b[0;34m.\u001b[0m\u001b[0mterm1_ELBO\u001b[0m\u001b[0;34m(\u001b[0m\u001b[0;34m)\u001b[0m\u001b[0;34m\u001b[0m\u001b[0;34m\u001b[0m\u001b[0m\n\u001b[0m",
      "\u001b[0;32m<ipython-input-9-1a98b38d0e5b>\u001b[0m in \u001b[0;36mterm1_ELBO\u001b[0;34m(self)\u001b[0m\n\u001b[1;32m     41\u001b[0m \u001b[0;34m\u001b[0m\u001b[0m\n\u001b[1;32m     42\u001b[0m     \u001b[0;32mdef\u001b[0m \u001b[0mterm1_ELBO\u001b[0m\u001b[0;34m(\u001b[0m\u001b[0mself\u001b[0m\u001b[0;34m)\u001b[0m\u001b[0;34m:\u001b[0m\u001b[0;34m\u001b[0m\u001b[0;34m\u001b[0m\u001b[0m\n\u001b[0;32m---> 43\u001b[0;31m         \u001b[0me1\u001b[0m \u001b[0;34m=\u001b[0m \u001b[0mself\u001b[0m\u001b[0;34m.\u001b[0m\u001b[0my\u001b[0m \u001b[0;34m*\u001b[0m \u001b[0;34m(\u001b[0m\u001b[0mself\u001b[0m\u001b[0;34m.\u001b[0m\u001b[0mr\u001b[0m \u001b[0;34m@\u001b[0m \u001b[0mself\u001b[0m\u001b[0;34m.\u001b[0m\u001b[0mm_nu\u001b[0m\u001b[0;34m)\u001b[0m \u001b[0;31m# []\u001b[0m\u001b[0;34m\u001b[0m\u001b[0;34m\u001b[0m\u001b[0m\n\u001b[0m\u001b[1;32m     44\u001b[0m \u001b[0;34m\u001b[0m\u001b[0m\n\u001b[1;32m     45\u001b[0m         \u001b[0;31m#TODO: do e7, add up all expressions, then multiply by -1/(2 sigma_epsilon^2)\u001b[0m\u001b[0;34m\u001b[0m\u001b[0;34m\u001b[0m\u001b[0;34m\u001b[0m\u001b[0m\n",
      "\u001b[0;31mValueError\u001b[0m: matmul: Input operand 1 has a mismatch in its core dimension 0, with gufunc signature (n?,k),(k,m?)->(n?,m?) (size 5 is different from 4)"
     ]
    }
   ],
   "source": [
    "specified_model = specified_model(y,t,r, params)\n",
    "specified_model.term1_ELBO()"
   ]
  }
 ],
 "metadata": {
  "kernelspec": {
   "display_name": "Python 3",
   "language": "python",
   "name": "python3"
  },
  "language_info": {
   "codemirror_mode": {
    "name": "ipython",
    "version": 3
   },
   "file_extension": ".py",
   "mimetype": "text/x-python",
   "name": "python",
   "nbconvert_exporter": "python",
   "pygments_lexer": "ipython3",
   "version": "3.7.6"
  }
 },
 "nbformat": 4,
 "nbformat_minor": 4
}
