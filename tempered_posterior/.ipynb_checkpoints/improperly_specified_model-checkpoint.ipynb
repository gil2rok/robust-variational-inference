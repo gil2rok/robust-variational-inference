{
 "cells": [
  {
   "cell_type": "code",
   "execution_count": 1,
   "metadata": {},
   "outputs": [],
   "source": [
    "import numpy as np\n",
    "from numpy.random import default_rng\n",
    "import matplotlib.pyplot as plt\n",
    "from sklearn.linear_model import LinearRegression\n",
    "from sklearn.model_selection import train_test_split\n",
    "from sklearn import metrics"
   ]
  },
  {
   "cell_type": "code",
   "execution_count": 10,
   "metadata": {},
   "outputs": [],
   "source": [
    "def generate_data(sigma_e=0.5, sigma_v=1, N=10000, D=2, K=1, seed=12345,):\n",
    "    '''\n",
    "    Params:\n",
    "        sigma_e - standard deviation for epsilon prob dist.\n",
    "        sigma_v - standard deviation for v prob dist.\n",
    "        N - num data pts to be generated\n",
    "        D - num dimensions v has\n",
    "        K - num  dimensions gamma has\n",
    "        seed - seed for random generator\n",
    "    '''\n",
    "    \n",
    "    # Sample from the specified PDFs\n",
    "    rng = default_rng(seed) # pass seed value to default random number generator\n",
    "    v = rng.multivariate_normal(np.zeros((D)), np.ones((D,D)) * sigma_v**2) # Use DxD covariance matrix of value sigma_v\n",
    "    t = rng.multivariate_normal(np.zeros((D)), np.ones((D,D)), N) # Use DxD covariance matrix of ones\n",
    "    gamma = rng.multivariate_normal(np.zeros((K)), np.ones((K,K))) # Use KxK covariance matrix of ones\n",
    "    assert(gamma.any()!=0) # Some element of gamma must not == 0, otherwise there's no misspecification\n",
    "    x = rng.multivariate_normal(np.zeros((K)), np.ones((K,K)), N)\n",
    "    epsilon = rng.normal(0, sigma_e**2, N) # Must be independent of t and x\n",
    "        \n",
    "    # Combine the relevant PDFs in vectorized form, calculating y = v*t_i + gamma*x_i + epsilon_i\n",
    "    y = np.matmul(v[np.newaxis,:], np.transpose(t)) # v * t\n",
    "    print(\"V shape: \", v[np.newaxis,:].shape)\n",
    "    print(\"V * t shape: \", y.shape)\n",
    "    y += np.matmul(gamma[np.newaxis,:], np.transpose(x)) # gamma * x\n",
    "    y += epsilon # epsilon\n",
    "    return y, t, x"
   ]
  },
  {
   "cell_type": "code",
   "execution_count": 11,
   "metadata": {},
   "outputs": [
    {
     "name": "stdout",
     "output_type": "stream",
     "text": [
      "V shape:  (1, 2)\n",
      "V * t shape:  (1, 10000)\n"
     ]
    }
   ],
   "source": [
    "y, t, x = generate_data()"
   ]
  },
  {
   "cell_type": "code",
   "execution_count": 4,
   "metadata": {},
   "outputs": [
    {
     "name": "stdout",
     "output_type": "stream",
     "text": [
      "Mean Abs Error: 0.39073255398835455\n",
      "Mean Squared Error: 0.2364473442884385\n",
      "Root Mean Squared Error: 0.48625851590325747\n"
     ]
    }
   ],
   "source": [
    "# Linear Regression Using Incorrect, Misspecified Model\n",
    "x_train, x_test, y_train, y_test = train_test_split(t, np.transpose(y), \n",
    "                                                    test_size=0.2, random_state=0)\n",
    "reg_incorrect = LinearRegression()\n",
    "reg_incorrect.fit(x_train, y_train)\n",
    "y_pred = reg_incorrect.predict(x_test)\n",
    "\n",
    "print(\"Mean Abs Error:\", metrics.mean_absolute_error(y_test, y_pred))\n",
    "print(\"Mean Squared Error:\", metrics.mean_squared_error(y_test,y_pred))\n",
    "print(\"Root Mean Squared Error:\", np.sqrt(metrics.mean_squared_error(y_test,y_pred)))"
   ]
  },
  {
   "cell_type": "code",
   "execution_count": 5,
   "metadata": {},
   "outputs": [
    {
     "name": "stdout",
     "output_type": "stream",
     "text": [
      "Mean Abs Error: 0.20035031065769401\n",
      "Mean Squared Error: 0.06369706947600555\n",
      "Root Mean Squared Error: 0.2523827836362963\n"
     ]
    }
   ],
   "source": [
    "# Linear Regression Using Correct Model\n",
    "x_train, x_test, y_train, y_test = train_test_split(np.concatenate((x,t), axis=1), \n",
    "                                                    np.transpose(y), test_size=0.2, random_state=0)\n",
    "reg_correct = LinearRegression()\n",
    "reg_correct.fit(x_train, y_train)\n",
    "y_pred = reg_correct.predict(x_test)\n",
    "\n",
    "print(\"Mean Abs Error:\", metrics.mean_absolute_error(y_test, y_pred))\n",
    "print(\"Mean Squared Error:\", metrics.mean_squared_error(y_test,y_pred))\n",
    "print(\"Root Mean Squared Error:\", np.sqrt(metrics.mean_squared_error(y_test,y_pred)))"
   ]
  }
 ],
 "metadata": {
  "kernelspec": {
   "display_name": "Python 3",
   "language": "python",
   "name": "python3"
  },
  "language_info": {
   "codemirror_mode": {
    "name": "ipython",
    "version": 3
   },
   "file_extension": ".py",
   "mimetype": "text/x-python",
   "name": "python",
   "nbconvert_exporter": "python",
   "pygments_lexer": "ipython3",
   "version": "3.7.6"
  }
 },
 "nbformat": 4,
 "nbformat_minor": 4
}
