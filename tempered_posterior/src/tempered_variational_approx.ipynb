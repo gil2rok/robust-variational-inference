{
 "cells": [
  {
   "cell_type": "markdown",
   "metadata": {},
   "source": [
    "## Import Statements"
   ]
  },
  {
   "cell_type": "code",
   "execution_count": 1,
   "metadata": {},
   "outputs": [],
   "source": [
    "%load_ext autoreload\n",
    "%autoreload 2"
   ]
  },
  {
   "cell_type": "code",
   "execution_count": 2,
   "metadata": {},
   "outputs": [],
   "source": [
    "from dataclasses import dataclass\n",
    "from IPython.core.debugger import set_trace\n",
    "import pprint\n",
    "from functools import lru_cache\n",
    "\n",
    "import numpy as np\n",
    "from numpy.random import default_rng\n",
    "from numpy.linalg import inv, norm, det, solve, lstsq\n",
    "import matplotlib.pyplot as plt\n",
    "from scipy.stats import multivariate_normal\n",
    "\n",
    "from specified import Specified_Model\n",
    "from misspecified import Misspecified_Model\n",
    "from utils import pshape"
   ]
  },
  {
   "cell_type": "code",
   "execution_count": 3,
   "metadata": {},
   "outputs": [],
   "source": [
    "np.seterr('warn')\n",
    "np.set_printoptions(precision=6)"
   ]
  },
  {
   "cell_type": "markdown",
   "metadata": {},
   "source": [
    "## Managing Variables, Data, and Parameters"
   ]
  },
  {
   "cell_type": "code",
   "execution_count": 4,
   "metadata": {},
   "outputs": [],
   "source": [
    "class Hyperparams(object):\n",
    "    def __init__(self, n=10000, A=2, B=2, seed=9):\n",
    "        self.n = n\n",
    "        self.A = A\n",
    "        self.B = B\n",
    "        self.seed = seed\n",
    "        \n",
    "class Priors(object):\n",
    "    def __init__(self, hparams):\n",
    "        rng = default_rng(hparams.seed)\n",
    "\n",
    "        self.t_mean = np.zeros(hparams.A)\n",
    "        self.t_cov = np.eye(hparams.A)\n",
    "\n",
    "        self.r_mean = np.zeros(hparams.B)\n",
    "        self.r_cov = np.eye(hparams.B)\n",
    "\n",
    "        self.nu_mean = rng.uniform(low=1, high=10, size=hparams.A)\n",
    "        self.nu_cov = rng.uniform() * np.ones((hparams.A)) # only store diagonals of cov matrix\n",
    "\n",
    "        self.gamma_mean = rng.uniform(low=1, high=10, size=hparams.B)\n",
    "        self.gamma_cov = rng.uniform() * np.ones((hparams.B)) # only store diagonals of cov matrix\n",
    "\n",
    "        # inverse of nu and gamma covariance matrices\n",
    "        self.nu_icov = np.diag(inv(np.diag(self.nu_cov))) # only store diagonals of cov matrix\n",
    "        self.gamma_icov = np.diag(inv(np.diag(self.gamma_cov))) # only store diagonals of cov matrix\n",
    "\n",
    "        self.epsilon_mean = np.array(0.0)\n",
    "        self.epsilon_var = rng.uniform()\n",
    "\n",
    "class Params(object):\n",
    "    def __init__(self, hparams, priors):\n",
    "        rng = default_rng(hparams.seed)\n",
    " \n",
    "        self.alpha = 1.\n",
    "\n",
    "        self.nu = rng.multivariate_normal(priors.nu_mean, np.diag(priors.nu_cov)) # sample nu from multivariate normal w/ diagonal covar matrix\n",
    "        self.gamma = rng.multivariate_normal(priors.gamma_mean, np.diag(priors.gamma_cov)) # sample gamma from multivariate normal w/ diagonal covar matrix\n",
    "        assert(self.gamma.any() != 0) # Some element of gamma must not == 0, otherwise there's no misspecification\n",
    "\n",
    "        self.t = rng.multivariate_normal(priors.t_mean, priors.t_cov, hparams.n) # sample t from multivariate normal density \n",
    "        self.r = rng.multivariate_normal(priors.r_mean, priors.r_cov, hparams.n) # sample r from multivariate normal density\n",
    "        self.epsilon = rng.normal(priors.epsilon_mean, priors.epsilon_var, hparams.n) # Must be independent of t and x\n",
    "\n",
    "        #  y = nu * t + gamma * r + epsilon\n",
    "        self.y = np.matmul(self.nu[np.newaxis,:], np.transpose(self.t))\n",
    "        self.y += np.matmul(self.gamma[np.newaxis,:], np.transpose(self.r))\n",
    "        self.y += self.epsilon\n",
    "        self.y = self.y.T "
   ]
  },
  {
   "cell_type": "markdown",
   "metadata": {},
   "source": [
    "## Finding Optimal Alpha Value"
   ]
  },
  {
   "cell_type": "code",
   "execution_count": 5,
   "metadata": {},
   "outputs": [],
   "source": [
    "def calc_true_posterior(hparams, priors, params):\n",
    "    tp_dict = {}\n",
    "\n",
    "    # calculate true posterior for nu\n",
    "    t1 = (params.t.T @ params.y) / (hparams.n * priors.epsilon_var)\n",
    "    t1 += (priors.nu_mean / (hparams.n * priors.nu_cov[0]))[:, np.newaxis] # [a, 1]\n",
    "    t2 = np.sum(params.t **2) / (hparams.n * priors.epsilon_var)\n",
    "    t2 += np.eye(hparams.A) / (hparams.n * priors.nu_cov[0])\n",
    "    t2_inv = inv(t2)\n",
    "\n",
    "    tp_dict['nu_posterior_mean'] = t2_inv @ t1\n",
    "    tp_dict['nu_posterior_cov'] = hparams.n * t2_inv\n",
    "\n",
    "    # calc true posterior for gamma\n",
    "    t3 = (params.r.T @ params.y) / (hparams.n * priors.epsilon_var)\n",
    "    t3 += (priors.gamma_mean / (hparams.n * priors.gamma_cov[0]))[:, np.newaxis] # [b, 1]\n",
    "    t4 = np.sum(params.r **2) / (hparams.n * priors.epsilon_var)\n",
    "    t4 += np.eye(hparams.B) / (hparams.n * priors.gamma_cov[0])\n",
    "    t4_inv = inv(t4)\n",
    "\n",
    "    tp_dict['gamma_posterior_mean'] = t4_inv @ t3\n",
    "    tp_dict['gamma_posterior_cov'] = hparams.n * t4_inv\n",
    "\n",
    "    return tp_dict\n",
    "\n",
    "def calc_kl_ms(ms_params, tp_dict):\n",
    "    mean1 = ms_params[0]\n",
    "    cov1 = np.diag(ms_params[1])\n",
    "    mean2 = tp_dict['nu_posterior_mean']\n",
    "    cov2 = tp_dict['nu_posterior_cov']\n",
    "\n",
    "    cov2_inv = inv(cov2)\n",
    "    t1 = np.log(det(cov2) / det(cov1))\n",
    "    t2 = np.trace(cov2_inv @ cov1)\n",
    "    t3 = (mean2 - mean1).T @ cov2_inv @ (mean2 - mean1)\n",
    "    t4 = mean1.shape[0]\n",
    "    ans = 0.5 * (t1 + t2 + t3 - t4)\n",
    "    return ans.squeeze()\n",
    "\n",
    "def calc_kl_s(s_params, tp_dict):\n",
    "    mean1 = s_params[0]\n",
    "    cov1 = np.diag(s_params[1])\n",
    "    mean2 = tp_dict['nu_posterior_mean']\n",
    "    cov2 = tp_dict['nu_posterior_cov']\n",
    "\n",
    "    cov2_inv = inv(cov2)\n",
    "    t1 = np.log(det(cov2) / det(cov1))\n",
    "    t2 = np.trace(cov2_inv @ cov1)\n",
    "    t3 = (mean2 - mean1).T @ cov2_inv @ (mean2 - mean1)\n",
    "    t4 = mean1.shape[0]\n",
    "    ans = 0.5 * (t1 + t2 + t3 - t4)\n",
    "    return ans.squeeze()\n",
    "\n",
    "#def calc_kl_s(s_params, tp_dict):\n",
    "#    mean1 = np.vstack((s_params[0], s_params[2]))\n",
    "#    t1 = np.diag(s_params[1])[:, np.newaxis]\n",
    "#    t2 = np.diag(s_params[3])[:, np.newaxis]\n",
    "#    cov1 = np.diag(np.vstack((t1, t2)).squeeze())\n",
    "#    mean2 = np.vstack((tp_dict['nu_posterior_mean'], \n",
    "#                        tp_dict['gamma_posterior_mean']))\n",
    "#    t3 = np.diag(tp_dict['nu_posterior_cov'])[:, np.newaxis]\n",
    "#    t4 = np.diag(tp_dict['gamma_posterior_cov'])[:, np.newaxis]\n",
    "#    cov2 = np.diag(np.vstack((t3, t4)).squeeze())\n",
    "#\n",
    "#    cov2_inv = inv(cov2)\n",
    "#    t1 = np.log(det(cov2) / det(cov1))\n",
    "#    t2 = np.trace(cov2_inv @ cov1)\n",
    "#    t3 = (mean2 - mean1).T @ cov2_inv @ (mean2 - mean1)\n",
    "#    t4 = mean1.shape[0]\n",
    "#    ans = 0.5 * (t1 + t2 + t3 - t4)\n",
    "#    return ans.squeeze()\n",
    "\n",
    "def graph_kl(kl_result, specified=False, misspecified=False, expected=True):\n",
    "    '''\n",
    "    kl_result is an [alpha_num x 3] numpy array\n",
    "    1st column = expected kl, 2nd column = kl_s, 3rd column = kl_ms\n",
    "    '''\n",
    "    alpha_num = kl_result.shape[0]\n",
    "    alpha = np.linspace(0,1, alpha_num)\n",
    "\n",
    "    if specified:\n",
    "        plt.plot(alpha, np.sort(kl_result[:,1]), label='Specified KL')\n",
    "    if misspecified:\n",
    "        plt.plot(alpha, np.sort(kl_result[:,2]), label='Misspecified KL')\n",
    "    if expected:\n",
    "        plt.plot(alpha, np.sort(kl_result[:,0]), label='Expected KL')\n",
    "    plt.xlabel('Alpha')\n",
    "    plt.ylabel('KL Divergence')\n",
    "    plt.title('KL Divergence W/ Diff Alpha Values')\n",
    "    plt.grid(True)\n",
    "    plt.savefig('plots/Alpha_KL_Divergence.png')\n",
    "    plt.legend()\n",
    "    plt.show()\n",
    "\n",
    "def graph_mse(mse_result):\n",
    "    '''\n",
    "    ms_result is an [alpha_num x 2] numpy array\n",
    "    1st column = mean squared error between true nu and approx nu for specified variational approximation,\n",
    "    2nd column = mean squared error between true nu and approx nu for misspecified variational approximation'''\n",
    "    alpha_num = mse_result.shape[0]\n",
    "    alpha = np.linspace(0,1, alpha_num)\n",
    "\n",
    "    plt.plot(alpha, np.sort(mse_result[:,0]), label=['Specified Nu MSE'])\n",
    "    plt.plot(alpha, np.sort(mse_result[:,1]), label=['Misspecified Nu MSE'])\n",
    "    plt.xlabel('Alpha')\n",
    "    plt.ylabel('Nu MSE')\n",
    "    plt.title('Nu MSE  W/ Diff Alpha Values')\n",
    "    plt.grid(True)\n",
    "    plt.savefig('plots/Alpha_Nu_MSE.png')\n",
    "    plt.show()\n",
    "\n",
    "def graph_mse2(mse_result):\n",
    "    '''\n",
    "    ms_result is an [alpha_num x 2] numpy array\n",
    "    1st column = mean squared error between true nu and approx nu for specified variational approximation,\n",
    "    2nd column = mean squared error between true nu and approx nu for misspecified variational approximation'''\n",
    "    alpha_num = mse_result.shape[0]\n",
    "    alpha = np.linspace(0,1, alpha_num)\n",
    "\n",
    "    fig, ax1 = plt.subplots()\n",
    "    color = 'tab:red'\n",
    "    ax1.set_xlabel('Alpha')\n",
    "    ax1.set_ylabel('Nu Specified MSE', color=color)\n",
    "    ax1.plot(alpha, np.sort(mse_result[:,0]), color=color, label=['Specified Nu MSE'])\n",
    "\n",
    "    ax2 = ax1.twinx()\n",
    "    color = 'tab:blue'\n",
    "    ax2.set_ylabel('Nu Misspecified MSE', color=color)\n",
    "    ax2.plot(alpha, np.sort(mse_result[:,1]), color=color, label=['Misspecified Nu MSE'])\n",
    "  \n",
    "    fig.suptitle('Nu MSE  W/ Diff Alpha Values')\n",
    "    fig.savefig('plots/Alpha_Nu_MSE.png')\n",
    "\n",
    "def graph_mse_specified(mse_dict):\n",
    "    lists = sorted(mse_dict.items()) # sorted by key, return a list of tuples\n",
    "    alpha, mse_val = zip(*lists) # unpack a list of pairs into two tuples\n",
    "\n",
    "    plt.plot(alpha, mse_val)\n",
    "    plt.xlabel('Alpha')\n",
    "    plt.ylabel('Nu MSE')\n",
    "    plt.title('Nu MSE  W/ Diff Alpha Values')\n",
    "    plt.grid(True)\n",
    "    plt.savefig('plots/Alpha_Nu_MSE.png')\n",
    "    plt.show()"
   ]
  },
  {
   "cell_type": "code",
   "execution_count": 13,
   "metadata": {},
   "outputs": [],
   "source": [
    "def main():\n",
    "    # hyper-parameters and initialization\n",
    "    alpha_num = 15\n",
    "    p = 0.5 # probability of misspecifed model occuring\n",
    "    kl_result = np.zeros((alpha_num,3))\n",
    "    mse_result = np.zeros((alpha_num, 2))\n",
    "    mse_specified = {}\n",
    "\n",
    "    # generate hyper-parameters, priors, and parameters\n",
    "    hparams = Hyperparams(n=500)\n",
    "    priors = Priors(hparams)\n",
    "    params = Params(hparams, priors)\n",
    "\n",
    "    # generate true posterior\n",
    "    tp_params = calc_true_posterior(hparams, priors, params)\n",
    "\n",
    "    for counter, alpha in enumerate(np.linspace(0, 1, alpha_num)):\n",
    "        params.alpha = alpha # set alpha value\n",
    "\n",
    "        # generate variational approximation to specified model\n",
    "        s = Specified_Model(hparams, priors, params)\n",
    "        s.fit(printing=False)\n",
    "        s_params = [s.aprx_nu_mean[:, np.newaxis], s.aprx_nu_cov,\n",
    "                    s.aprx_gamma_mean[:, np.newaxis], s.aprx_gamma_cov]\n",
    "\n",
    "        # generate variational approximation to misspecified model\n",
    "        ms = Misspecified_Model(hparams, priors, params)\n",
    "        ms.fit(printing=False)\n",
    "        ms_params = [ms.aprx_nu_mean[:, np.newaxis], ms.aprx_nu_cov]\n",
    "\n",
    "        # calc kl divergence\n",
    "        kl_ms = calc_kl_ms(ms_params, tp_params)\n",
    "        kl_s = calc_kl_s(s_params, tp_params)\n",
    "\n",
    "        # add stats to dict\n",
    "        kl_exp = (kl_s * (1-p)) + (kl_ms * p) # expected kl divergence\n",
    "        kl_result[counter,:] = np.array([kl_exp, kl_s, kl_ms])\n",
    "        mse_result[counter,:] = np.array([s.get_nu_mse(), ms.get_nu_mse()])\n",
    "        mse_specified[alpha] = ms.get_nu_mse()\n",
    "\n",
    "    graph_kl(kl_result, specified=True, misspecified=True) # graph kl divergence\n",
    "    graph_mse2(mse_result) # graph nu mse from speicfied and unspecified models"
   ]
  },
  {
   "cell_type": "code",
   "execution_count": 14,
   "metadata": {
    "scrolled": false
   },
   "outputs": [
    {
     "data": {
      "image/png": "[encoded data removed]",
      "text/plain": [
       "<Figure size 432x288 with 1 Axes>"
      ]
     },
     "metadata": {
      "needs_background": "light"
     },
     "output_type": "display_data"
    },
    {
     "data": {
      "image/png": "[encoded data removed]",
      "text/plain": [
       "<Figure size 432x288 with 2 Axes>"
      ]
     },
     "metadata": {
      "needs_background": "light"
     },
     "output_type": "display_data"
    }
   ],
   "source": [
    "main()"
   ]
  },
  {
   "cell_type": "markdown",
   "metadata": {},
   "source": [
    "### When $\\alpha=0$, the specified KL divergence and the misspecified KL divergence are exactly the same. This is because when $\\alpha=0$, the mean and covariance for variational approximations (VAs) for specified and misspecified models are exactly the same. Why is this? Furthermore, VA of specified and misspecified models should def have different covariances since they are intialized once then never changed. However, they are actually set to the same (constant) value regardless of covariance initilization"
   ]
  },
  {
   "cell_type": "markdown",
   "metadata": {},
   "source": [
    "### Now it appears that also regardless of initialization, the mean always becomes a constant factor when alpha=0"
   ]
  },
  {
   "cell_type": "markdown",
   "metadata": {},
   "source": [
    "## CAVI Algo vs Linear Regression (Least Squares)"
   ]
  },
  {
   "cell_type": "code",
   "execution_count": 8,
   "metadata": {},
   "outputs": [
    {
     "name": "stdout",
     "output_type": "stream",
     "text": [
      "Actual Means:\t\t\t\t [8.208739 3.769958 6.41309  8.072403]\n",
      "Variational Approximation Means:\t [8.191799 3.738004 6.410549 8.094665]\n"
     ]
    },
    {
     "ename": "LinAlgError",
     "evalue": "1-dimensional array given. Array must be at least two-dimensional",
     "output_type": "error",
     "traceback": [
      "\u001b[0;31m---------------------------------------------------------------------------\u001b[0m",
      "\u001b[0;31mLinAlgError\u001b[0m                               Traceback (most recent call last)",
      "\u001b[0;32m<ipython-input-8-7c443b71f001>\u001b[0m in \u001b[0;36m<module>\u001b[0;34m\u001b[0m\n\u001b[1;32m     16\u001b[0m                     s.aprx_gamma_mean[:, np.newaxis], np.diag(s.aprx_gamma_cov)]\n\u001b[1;32m     17\u001b[0m \u001b[0mtp_dict\u001b[0m \u001b[0;34m=\u001b[0m \u001b[0mcalc_true_posterior\u001b[0m\u001b[0;34m(\u001b[0m\u001b[0mhparams\u001b[0m\u001b[0;34m,\u001b[0m \u001b[0mpriors\u001b[0m\u001b[0;34m,\u001b[0m \u001b[0mparams\u001b[0m\u001b[0;34m)\u001b[0m\u001b[0;34m\u001b[0m\u001b[0;34m\u001b[0m\u001b[0m\n\u001b[0;32m---> 18\u001b[0;31m \u001b[0mkl\u001b[0m \u001b[0;34m=\u001b[0m \u001b[0mcalc_kl_s\u001b[0m\u001b[0;34m(\u001b[0m\u001b[0ms_params\u001b[0m\u001b[0;34m,\u001b[0m \u001b[0mtp_dict\u001b[0m\u001b[0;34m)\u001b[0m\u001b[0;34m\u001b[0m\u001b[0;34m\u001b[0m\u001b[0m\n\u001b[0m\u001b[1;32m     19\u001b[0m \u001b[0;31m#print('KL:\\t\\t\\t\\t\\t', kl)\u001b[0m\u001b[0;34m\u001b[0m\u001b[0;34m\u001b[0m\u001b[0;34m\u001b[0m\u001b[0m\n\u001b[1;32m     20\u001b[0m \u001b[0;34m\u001b[0m\u001b[0m\n",
      "\u001b[0;32m<ipython-input-5-07ac3278c16e>\u001b[0m in \u001b[0;36mcalc_kl_s\u001b[0;34m(s_params, tp_dict)\u001b[0m\n\u001b[1;32m     45\u001b[0m \u001b[0;34m\u001b[0m\u001b[0m\n\u001b[1;32m     46\u001b[0m     \u001b[0mcov2_inv\u001b[0m \u001b[0;34m=\u001b[0m \u001b[0minv\u001b[0m\u001b[0;34m(\u001b[0m\u001b[0mcov2\u001b[0m\u001b[0;34m)\u001b[0m\u001b[0;34m\u001b[0m\u001b[0;34m\u001b[0m\u001b[0m\n\u001b[0;32m---> 47\u001b[0;31m     \u001b[0mt1\u001b[0m \u001b[0;34m=\u001b[0m \u001b[0mnp\u001b[0m\u001b[0;34m.\u001b[0m\u001b[0mlog\u001b[0m\u001b[0;34m(\u001b[0m\u001b[0mdet\u001b[0m\u001b[0;34m(\u001b[0m\u001b[0mcov2\u001b[0m\u001b[0;34m)\u001b[0m \u001b[0;34m/\u001b[0m \u001b[0mdet\u001b[0m\u001b[0;34m(\u001b[0m\u001b[0mcov1\u001b[0m\u001b[0;34m)\u001b[0m\u001b[0;34m)\u001b[0m\u001b[0;34m\u001b[0m\u001b[0;34m\u001b[0m\u001b[0m\n\u001b[0m\u001b[1;32m     48\u001b[0m     \u001b[0mt2\u001b[0m \u001b[0;34m=\u001b[0m \u001b[0mnp\u001b[0m\u001b[0;34m.\u001b[0m\u001b[0mtrace\u001b[0m\u001b[0;34m(\u001b[0m\u001b[0mcov2_inv\u001b[0m \u001b[0;34m@\u001b[0m \u001b[0mcov1\u001b[0m\u001b[0;34m)\u001b[0m\u001b[0;34m\u001b[0m\u001b[0;34m\u001b[0m\u001b[0m\n\u001b[1;32m     49\u001b[0m     \u001b[0mt3\u001b[0m \u001b[0;34m=\u001b[0m \u001b[0;34m(\u001b[0m\u001b[0mmean2\u001b[0m \u001b[0;34m-\u001b[0m \u001b[0mmean1\u001b[0m\u001b[0;34m)\u001b[0m\u001b[0;34m.\u001b[0m\u001b[0mT\u001b[0m \u001b[0;34m@\u001b[0m \u001b[0mcov2_inv\u001b[0m \u001b[0;34m@\u001b[0m \u001b[0;34m(\u001b[0m\u001b[0mmean2\u001b[0m \u001b[0;34m-\u001b[0m \u001b[0mmean1\u001b[0m\u001b[0;34m)\u001b[0m\u001b[0;34m\u001b[0m\u001b[0;34m\u001b[0m\u001b[0m\n",
      "\u001b[0;32m<__array_function__ internals>\u001b[0m in \u001b[0;36mdet\u001b[0;34m(*args, **kwargs)\u001b[0m\n",
      "\u001b[0;32m~/anaconda3/lib/python3.7/site-packages/numpy/linalg/linalg.py\u001b[0m in \u001b[0;36mdet\u001b[0;34m(a)\u001b[0m\n\u001b[1;32m   2110\u001b[0m     \"\"\"\n\u001b[1;32m   2111\u001b[0m     \u001b[0ma\u001b[0m \u001b[0;34m=\u001b[0m \u001b[0masarray\u001b[0m\u001b[0;34m(\u001b[0m\u001b[0ma\u001b[0m\u001b[0;34m)\u001b[0m\u001b[0;34m\u001b[0m\u001b[0;34m\u001b[0m\u001b[0m\n\u001b[0;32m-> 2112\u001b[0;31m     \u001b[0m_assert_stacked_2d\u001b[0m\u001b[0;34m(\u001b[0m\u001b[0ma\u001b[0m\u001b[0;34m)\u001b[0m\u001b[0;34m\u001b[0m\u001b[0;34m\u001b[0m\u001b[0m\n\u001b[0m\u001b[1;32m   2113\u001b[0m     \u001b[0m_assert_stacked_square\u001b[0m\u001b[0;34m(\u001b[0m\u001b[0ma\u001b[0m\u001b[0;34m)\u001b[0m\u001b[0;34m\u001b[0m\u001b[0;34m\u001b[0m\u001b[0m\n\u001b[1;32m   2114\u001b[0m     \u001b[0mt\u001b[0m\u001b[0;34m,\u001b[0m \u001b[0mresult_t\u001b[0m \u001b[0;34m=\u001b[0m \u001b[0m_commonType\u001b[0m\u001b[0;34m(\u001b[0m\u001b[0ma\u001b[0m\u001b[0;34m)\u001b[0m\u001b[0;34m\u001b[0m\u001b[0;34m\u001b[0m\u001b[0m\n",
      "\u001b[0;32m~/anaconda3/lib/python3.7/site-packages/numpy/linalg/linalg.py\u001b[0m in \u001b[0;36m_assert_stacked_2d\u001b[0;34m(*arrays)\u001b[0m\n\u001b[1;32m    205\u001b[0m         \u001b[0;32mif\u001b[0m \u001b[0ma\u001b[0m\u001b[0;34m.\u001b[0m\u001b[0mndim\u001b[0m \u001b[0;34m<\u001b[0m \u001b[0;36m2\u001b[0m\u001b[0;34m:\u001b[0m\u001b[0;34m\u001b[0m\u001b[0;34m\u001b[0m\u001b[0m\n\u001b[1;32m    206\u001b[0m             raise LinAlgError('%d-dimensional array given. Array must be '\n\u001b[0;32m--> 207\u001b[0;31m                     'at least two-dimensional' % a.ndim)\n\u001b[0m\u001b[1;32m    208\u001b[0m \u001b[0;34m\u001b[0m\u001b[0m\n\u001b[1;32m    209\u001b[0m \u001b[0;32mdef\u001b[0m \u001b[0m_assert_stacked_square\u001b[0m\u001b[0;34m(\u001b[0m\u001b[0;34m*\u001b[0m\u001b[0marrays\u001b[0m\u001b[0;34m)\u001b[0m\u001b[0;34m:\u001b[0m\u001b[0;34m\u001b[0m\u001b[0;34m\u001b[0m\u001b[0m\n",
      "\u001b[0;31mLinAlgError\u001b[0m: 1-dimensional array given. Array must be at least two-dimensional"
     ]
    }
   ],
   "source": [
    "hparams = Hyperparams(n=1000)\n",
    "priors = Priors(hparams)\n",
    "params = Params(hparams, priors)\n",
    "params.alpha = 0.3\n",
    "print('Actual Means:\\t\\t\\t\\t', np.hstack((params.nu, params.gamma)))\n",
    "\n",
    "# CAVI algorithm (Specified)\n",
    "s = Specified_Model(hparams, priors, params)\n",
    "s.fit(printing=False)\n",
    "#s.plot_elbo()\n",
    "print('Variational Approximation Means:\\t', np.hstack((s.aprx_nu_mean, s.aprx_gamma_mean)))\n",
    "\n",
    "# KL Divergence (Specified)\n",
    "s_params = [s.aprx_nu_mean[:, np.newaxis], np.diag(s.aprx_nu_cov),\n",
    "                    s.aprx_gamma_mean[:, np.newaxis], np.diag(s.aprx_gamma_cov)]\n",
    "tp_dict = calc_true_posterior(hparams, priors, params)\n",
    "kl = calc_kl_s(s_params, tp_dict)\n",
    "#print('KL:\\t\\t\\t\\t\\t', kl)\n",
    "\n",
    "# Solve Linear Equation\n",
    "a = np.hstack([params.t.squeeze(), params.r.squeeze()])\n",
    "b = params.y\n",
    "x, _, _, _ = lstsq(a, b)\n",
    "print('Least Squares Means:\\t\\t\\t', x.T.squeeze())\n"
   ]
  }
 ],
 "metadata": {
  "interpreter": {
   "hash": "021afbc836fa5edbccfd7b2639f9488e9e50df33a2e520d7b673a9b6f3bd4efe"
  },
  "kernelspec": {
   "display_name": "Python 3.7.6 64-bit ('base': conda)",
   "language": "python",
   "name": "python3"
  },
  "language_info": {
   "codemirror_mode": {
    "name": "ipython",
    "version": 3
   },
   "file_extension": ".py",
   "mimetype": "text/x-python",
   "name": "python",
   "nbconvert_exporter": "python",
   "pygments_lexer": "ipython3",
   "version": "3.7.6"
  }
 },
 "nbformat": 4,
 "nbformat_minor": 4
}
